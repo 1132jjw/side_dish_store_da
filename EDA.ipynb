{
 "cells": [
  {
   "cell_type": "code",
   "execution_count": 5,
   "metadata": {},
   "outputs": [],
   "source": [
    "import re\n",
    "\n",
    "import pandas as pd\n",
    "import numpy as np\n",
    "import seaborn as sns\n",
    "\n",
    "from selenium import webdriver\n",
    "from selenium.webdriver.common.keys import Keys"
   ]
  },
  {
   "cell_type": "code",
   "execution_count": 2,
   "metadata": {},
   "outputs": [],
   "source": [
    "folder = './datas/'\n",
    "df_1 = pd.read_csv(folder + 'df_0908.csv')\n",
    "df_2 = pd.read_csv(folder + 'df_0909_1009.csv')\n",
    "df_3 = pd.read_csv(folder + 'df_1010_1110.csv')\n",
    "df_4 = pd.read_csv(folder + 'df_1111_1211.csv')"
   ]
  },
  {
   "cell_type": "code",
   "execution_count": 3,
   "metadata": {},
   "outputs": [],
   "source": [
    "df = pd.concat([df_1, df_2])\n",
    "df = pd.concat([df, df_3])\n",
    "df = pd.concat([df, df_4])"
   ]
  },
  {
   "cell_type": "markdown",
   "metadata": {},
   "source": [
    "# preprocessing"
   ]
  },
  {
   "cell_type": "markdown",
   "metadata": {},
   "source": [
    "## name 전처리"
   ]
  },
  {
   "cell_type": "code",
   "execution_count": 62,
   "metadata": {},
   "outputs": [
    {
     "name": "stderr",
     "output_type": "stream",
     "text": [
      "C:\\Users\\1132j\\AppData\\Local\\Temp\\ipykernel_20800\\1109526667.py:2: SettingWithCopyWarning: \n",
      "A value is trying to be set on a copy of a slice from a DataFrame.\n",
      "Try using .loc[row_indexer,col_indexer] = value instead\n",
      "\n",
      "See the caveats in the documentation: https://pandas.pydata.org/pandas-docs/stable/user_guide/indexing.html#returning-a-view-versus-a-copy\n",
      "  temp['dish_name'] = temp['name'].apply(lambda x: x.split()[0])\n",
      "C:\\Users\\1132j\\AppData\\Local\\Temp\\ipykernel_20800\\1109526667.py:3: SettingWithCopyWarning: \n",
      "A value is trying to be set on a copy of a slice from a DataFrame.\n",
      "Try using .loc[row_indexer,col_indexer] = value instead\n",
      "\n",
      "See the caveats in the documentation: https://pandas.pydata.org/pandas-docs/stable/user_guide/indexing.html#returning-a-view-versus-a-copy\n",
      "  temp['dish_name'] = temp['dish_name'].apply(lambda x: re.sub('\\(.\\)', '', x))\n",
      "C:\\Users\\1132j\\AppData\\Local\\Temp\\ipykernel_20800\\1109526667.py:4: SettingWithCopyWarning: \n",
      "A value is trying to be set on a copy of a slice from a DataFrame.\n",
      "Try using .loc[row_indexer,col_indexer] = value instead\n",
      "\n",
      "See the caveats in the documentation: https://pandas.pydata.org/pandas-docs/stable/user_guide/indexing.html#returning-a-view-versus-a-copy\n",
      "  temp['dish_number'] = temp['name'].apply(lambda x: x.split()[1])\n"
     ]
    }
   ],
   "source": [
    "temp = df[:]\n",
    "temp['dish_name'] = temp['name'].apply(lambda x: x.split()[0])\n",
    "temp['dish_name'] = temp['dish_name'].apply(lambda x: re.sub('\\(.\\)', '', x))\n",
    "temp['dish_number'] = temp['name'].apply(lambda x: x.split()[1])\n",
    "# temp['size'] = temp['dish_name'].apply(lambda x: re.search('\\(.\\)', x).group())"
   ]
  },
  {
   "cell_type": "markdown",
   "metadata": {},
   "source": [
    "## card number 인덱싱"
   ]
  },
  {
   "cell_type": "code",
   "execution_count": 90,
   "metadata": {},
   "outputs": [],
   "source": [
    "unique_card = temp['card_number'].unique()\n",
    "card2idx = {k: i for i, k in enumerate(unique_card)}\n",
    "idx2card = {i: k for i, k in enumerate(unique_card)}"
   ]
  },
  {
   "cell_type": "code",
   "execution_count": 93,
   "metadata": {},
   "outputs": [
    {
     "name": "stderr",
     "output_type": "stream",
     "text": [
      "C:\\Users\\1132j\\AppData\\Local\\Temp\\ipykernel_20800\\1565868863.py:1: SettingWithCopyWarning: \n",
      "A value is trying to be set on a copy of a slice from a DataFrame.\n",
      "Try using .loc[row_indexer,col_indexer] = value instead\n",
      "\n",
      "See the caveats in the documentation: https://pandas.pydata.org/pandas-docs/stable/user_guide/indexing.html#returning-a-view-versus-a-copy\n",
      "  temp['user_index'] = temp['card_number'].map(card2idx)\n"
     ]
    }
   ],
   "source": [
    "temp['user_index'] = temp['card_number'].map(card2idx)"
   ]
  },
  {
   "cell_type": "code",
   "execution_count": null,
   "metadata": {},
   "outputs": [],
   "source": []
  }
 ],
 "metadata": {
  "kernelspec": {
   "display_name": "base",
   "language": "python",
   "name": "python3"
  },
  "language_info": {
   "codemirror_mode": {
    "name": "ipython",
    "version": 3
   },
   "file_extension": ".py",
   "mimetype": "text/x-python",
   "name": "python",
   "nbconvert_exporter": "python",
   "pygments_lexer": "ipython3",
   "version": "3.11.5"
  }
 },
 "nbformat": 4,
 "nbformat_minor": 2
}
